{
 "cells": [
  {
   "cell_type": "code",
   "execution_count": 1,
   "id": "a23f83fd-00ec-4c2d-8340-546654474ee4",
   "metadata": {},
   "outputs": [
    {
     "name": "stdout",
     "output_type": "stream",
     "text": [
      "WARNING:tensorflow:From C:\\Users\\sapta\\AppData\\Roaming\\Python\\Python311\\site-packages\\keras\\src\\losses.py:2976: The name tf.losses.sparse_softmax_cross_entropy is deprecated. Please use tf.compat.v1.losses.sparse_softmax_cross_entropy instead.\n",
      "\n"
     ]
    }
   ],
   "source": [
    "import os\n",
    "import pickle\n",
    "import numpy as np\n",
    "from tqdm.notebook import tqdm\n",
    "import pydotplus \n",
    "from pydotplus import InvocationException\n",
    "import graphviz\n",
    "from tensorflow.keras.applications.vgg16 import VGG16, preprocess_input\n",
    "from tensorflow.keras.preprocessing.image import load_img, img_to_array\n",
    "from tensorflow.keras.preprocessing.text import Tokenizer\n",
    "from tensorflow.keras.preprocessing.sequence import pad_sequences\n",
    "from tensorflow.keras.models import Model\n",
    "from tensorflow.keras.utils import to_categorical, plot_model\n",
    "from tensorflow.keras.layers import Input, Dense, LSTM, Embedding, Dropout, add"
   ]
  },
  {
   "cell_type": "code",
   "execution_count": 2,
   "id": "55076271-af82-4e48-a20a-aaccd18d4d35",
   "metadata": {},
   "outputs": [],
   "source": [
    "BASE_DIR = '/Users/sapta/Desktop/archive'\n",
    "WORKING_DIR = '/Users/sapta'\n"
   ]
  },
  {
   "cell_type": "code",
   "execution_count": 3,
   "id": "2b8b8416-48ae-433b-9113-0c60e9cb80c7",
   "metadata": {},
   "outputs": [
    {
     "name": "stdout",
     "output_type": "stream",
     "text": [
      "WARNING:tensorflow:From C:\\Users\\sapta\\AppData\\Roaming\\Python\\Python311\\site-packages\\keras\\src\\backend.py:1398: The name tf.executing_eagerly_outside_functions is deprecated. Please use tf.compat.v1.executing_eagerly_outside_functions instead.\n",
      "\n",
      "WARNING:tensorflow:From C:\\Users\\sapta\\AppData\\Roaming\\Python\\Python311\\site-packages\\keras\\src\\layers\\pooling\\max_pooling2d.py:161: The name tf.nn.max_pool is deprecated. Please use tf.nn.max_pool2d instead.\n",
      "\n",
      "Model: \"model\"\n",
      "_________________________________________________________________\n",
      " Layer (type)                Output Shape              Param #   \n",
      "=================================================================\n",
      " input_1 (InputLayer)        [(None, 224, 224, 3)]     0         \n",
      "                                                                 \n",
      " block1_conv1 (Conv2D)       (None, 224, 224, 64)      1792      \n",
      "                                                                 \n",
      " block1_conv2 (Conv2D)       (None, 224, 224, 64)      36928     \n",
      "                                                                 \n",
      " block1_pool (MaxPooling2D)  (None, 112, 112, 64)      0         \n",
      "                                                                 \n",
      " block2_conv1 (Conv2D)       (None, 112, 112, 128)     73856     \n",
      "                                                                 \n",
      " block2_conv2 (Conv2D)       (None, 112, 112, 128)     147584    \n",
      "                                                                 \n",
      " block2_pool (MaxPooling2D)  (None, 56, 56, 128)       0         \n",
      "                                                                 \n",
      " block3_conv1 (Conv2D)       (None, 56, 56, 256)       295168    \n",
      "                                                                 \n",
      " block3_conv2 (Conv2D)       (None, 56, 56, 256)       590080    \n",
      "                                                                 \n",
      " block3_conv3 (Conv2D)       (None, 56, 56, 256)       590080    \n",
      "                                                                 \n",
      " block3_pool (MaxPooling2D)  (None, 28, 28, 256)       0         \n",
      "                                                                 \n",
      " block4_conv1 (Conv2D)       (None, 28, 28, 512)       1180160   \n",
      "                                                                 \n",
      " block4_conv2 (Conv2D)       (None, 28, 28, 512)       2359808   \n",
      "                                                                 \n",
      " block4_conv3 (Conv2D)       (None, 28, 28, 512)       2359808   \n",
      "                                                                 \n",
      " block4_pool (MaxPooling2D)  (None, 14, 14, 512)       0         \n",
      "                                                                 \n",
      " block5_conv1 (Conv2D)       (None, 14, 14, 512)       2359808   \n",
      "                                                                 \n",
      " block5_conv2 (Conv2D)       (None, 14, 14, 512)       2359808   \n",
      "                                                                 \n",
      " block5_conv3 (Conv2D)       (None, 14, 14, 512)       2359808   \n",
      "                                                                 \n",
      " block5_pool (MaxPooling2D)  (None, 7, 7, 512)         0         \n",
      "                                                                 \n",
      " flatten (Flatten)           (None, 25088)             0         \n",
      "                                                                 \n",
      " fc1 (Dense)                 (None, 4096)              102764544 \n",
      "                                                                 \n",
      " fc2 (Dense)                 (None, 4096)              16781312  \n",
      "                                                                 \n",
      "=================================================================\n",
      "Total params: 134260544 (512.16 MB)\n",
      "Trainable params: 134260544 (512.16 MB)\n",
      "Non-trainable params: 0 (0.00 Byte)\n",
      "_________________________________________________________________\n",
      "None\n"
     ]
    }
   ],
   "source": [
    "# load vgg16 model\n",
    "model = VGG16()\n",
    "# restructure the model\n",
    "model = Model(inputs=model.inputs, outputs=model.layers[-2].output)\n",
    "# summarize\n",
    "print(model.summary())"
   ]
  },
  {
   "cell_type": "code",
   "execution_count": 4,
   "id": "ad33ca25-d502-4caf-8c50-3fd37c1c1180",
   "metadata": {},
   "outputs": [
    {
     "data": {
      "application/vnd.jupyter.widget-view+json": {
       "model_id": "500d2098d72845da8984571bcf67d96f",
       "version_major": 2,
       "version_minor": 0
      },
      "text/plain": [
       "  0%|          | 0/8096 [00:00<?, ?it/s]"
      ]
     },
     "metadata": {},
     "output_type": "display_data"
    }
   ],
   "source": [
    "# extract features from image\n",
    "features = {}\n",
    "directory = os.path.join(BASE_DIR, 'Images')\n",
    "\n",
    "for img_name in tqdm(os.listdir(directory)):\n",
    "    # load the image from file\n",
    "    img_path = directory + '/' + img_name\n",
    "    image = load_img(img_path, target_size=(224, 224))\n",
    "    # convert image pixels to numpy array\n",
    "    image = img_to_array(image)\n",
    "    # reshape data for model\n",
    "    image = image.reshape((1, image.shape[0], image.shape[1], image.shape[2]))\n",
    "    # preprocess image for vgg\n",
    "    image = preprocess_input(image)\n",
    "    # extract features\n",
    "    feature = model.predict(image, verbose=0)\n",
    "    # get image ID\n",
    "    image_id = img_name.split('.')[0]\n",
    "    # store feature\n",
    "    features[image_id] = feature"
   ]
  },
  {
   "cell_type": "code",
   "execution_count": 5,
   "id": "1e88092d-53aa-42b5-bfe4-d0f2b49d76a9",
   "metadata": {},
   "outputs": [],
   "source": [
    "# store features in pickle\n",
    "pickle.dump(features, open(os.path.join(WORKING_DIR, 'features.pkl'), 'wb'))"
   ]
  },
  {
   "cell_type": "code",
   "execution_count": 6,
   "id": "418b1e99-49cd-4ca7-a257-80800f016db8",
   "metadata": {},
   "outputs": [],
   "source": [
    "with open(os.path.join(WORKING_DIR, 'features.pkl'), 'rb') as f:\n",
    "    features = pickle.load(f)"
   ]
  },
  {
   "cell_type": "code",
   "execution_count": 7,
   "id": "3fed3979-90b8-4a7d-b58e-b356d3cdd29a",
   "metadata": {},
   "outputs": [],
   "source": [
    "with open(os.path.join(BASE_DIR, 'captions.txt'), 'r') as f:\n",
    "    next(f)\n",
    "    captions_doc = f.read()"
   ]
  },
  {
   "cell_type": "code",
   "execution_count": 8,
   "id": "9ef45964-f707-41b8-aae7-01fa276cd8b2",
   "metadata": {},
   "outputs": [
    {
     "data": {
      "application/vnd.jupyter.widget-view+json": {
       "model_id": "f80f48916fbd4a1785c86fd5377b328b",
       "version_major": 2,
       "version_minor": 0
      },
      "text/plain": [
       "  0%|          | 0/40456 [00:00<?, ?it/s]"
      ]
     },
     "metadata": {},
     "output_type": "display_data"
    }
   ],
   "source": [
    "# create mapping of image to captions\n",
    "mapping = {}\n",
    "# process lines\n",
    "for line in tqdm(captions_doc.split('\\n')):\n",
    "    # split the line by comma(,)\n",
    "    tokens = line.split(',')\n",
    "    if len(line) < 2:\n",
    "        continue\n",
    "    image_id, caption = tokens[0], tokens[1:]\n",
    "    # remove extension from image ID\n",
    "    image_id = image_id.split('.')[0]\n",
    "    # convert caption list to string\n",
    "    caption = \" \".join(caption)\n",
    "    # create list if needed\n",
    "    if image_id not in mapping:\n",
    "        mapping[image_id] = []\n",
    "    # store the caption\n",
    "    mapping[image_id].append(caption)"
   ]
  },
  {
   "cell_type": "code",
   "execution_count": 9,
   "id": "2ece78ee-e573-4fdd-884e-221452058f8d",
   "metadata": {},
   "outputs": [
    {
     "data": {
      "text/plain": [
       "8091"
      ]
     },
     "execution_count": 9,
     "metadata": {},
     "output_type": "execute_result"
    }
   ],
   "source": [
    "len(mapping)"
   ]
  },
  {
   "cell_type": "code",
   "execution_count": 10,
   "id": "a2cf4dbf-581c-4c4a-bb27-d59468bd1a90",
   "metadata": {},
   "outputs": [],
   "source": [
    "def clean(mapping):\n",
    "    for key, captions in mapping.items():\n",
    "        for i in range(len(captions)):\n",
    "            # take one caption at a time\n",
    "            caption = captions[i]\n",
    "            # preprocessing steps\n",
    "            # convert to lowercase\n",
    "            caption = caption.lower()\n",
    "            # delete digits, special chars, etc., \n",
    "            caption = caption.replace('[^A-Za-z]', '')\n",
    "            # delete additional spaces\n",
    "            caption = caption.replace('\\s+', ' ')\n",
    "            # add start and end tags to the caption\n",
    "            caption = 'startseq ' + \" \".join([word for word in caption.split() if len(word)>1]) + ' endseq'\n",
    "            captions[i] = caption"
   ]
  },
  {
   "cell_type": "code",
   "execution_count": 11,
   "id": "425b0549-48eb-41c3-bf55-0e327887017e",
   "metadata": {},
   "outputs": [
    {
     "data": {
      "text/plain": [
       "['A child in a pink dress is climbing up a set of stairs in an entry way .',\n",
       " 'A girl going into a wooden building .',\n",
       " 'A little girl climbing into a wooden playhouse .',\n",
       " 'A little girl climbing the stairs to her playhouse .',\n",
       " 'A little girl in a pink dress going into a wooden cabin .']"
      ]
     },
     "execution_count": 11,
     "metadata": {},
     "output_type": "execute_result"
    }
   ],
   "source": [
    "# before preprocess of text\n",
    "mapping['1000268201_693b08cb0e']"
   ]
  },
  {
   "cell_type": "code",
   "execution_count": 12,
   "id": "22f3aa5e-f9a8-4227-a147-234eb498e121",
   "metadata": {},
   "outputs": [],
   "source": [
    "# preprocess the text\n",
    "clean(mapping)"
   ]
  },
  {
   "cell_type": "code",
   "execution_count": 13,
   "id": "5a1c3b00-530b-4a13-9131-4c871749f7dd",
   "metadata": {},
   "outputs": [
    {
     "data": {
      "text/plain": [
       "['startseq people sit on the mountainside and check out the view endseq',\n",
       " 'startseq three people are on hilltop overlooking green valley endseq',\n",
       " 'startseq three people hang out on top of big hill endseq',\n",
       " 'startseq three people overlook green valley endseq',\n",
       " 'startseq three people rest on ledge above the moutains endseq']"
      ]
     },
     "execution_count": 13,
     "metadata": {},
     "output_type": "execute_result"
    }
   ],
   "source": [
    "# after preprocess of text\n",
    "mapping['104136873_5b5d41be75']"
   ]
  },
  {
   "cell_type": "code",
   "execution_count": 14,
   "id": "1c7111f8-f886-46a6-a04b-417f8b3be7ad",
   "metadata": {},
   "outputs": [],
   "source": [
    "all_captions = []\n",
    "for key in mapping:\n",
    "    for caption in mapping[key]:\n",
    "        all_captions.append(caption)"
   ]
  },
  {
   "cell_type": "code",
   "execution_count": 15,
   "id": "09527a0a-7d39-4b80-bc2a-d04f5ed98944",
   "metadata": {},
   "outputs": [
    {
     "data": {
      "text/plain": [
       "40455"
      ]
     },
     "execution_count": 15,
     "metadata": {},
     "output_type": "execute_result"
    }
   ],
   "source": [
    "len(all_captions)"
   ]
  },
  {
   "cell_type": "code",
   "execution_count": 16,
   "id": "4134890d-8c25-4361-9f1d-6a901e88236f",
   "metadata": {},
   "outputs": [
    {
     "data": {
      "text/plain": [
       "['startseq child in pink dress is climbing up set of stairs in an entry way endseq',\n",
       " 'startseq girl going into wooden building endseq',\n",
       " 'startseq little girl climbing into wooden playhouse endseq',\n",
       " 'startseq little girl climbing the stairs to her playhouse endseq',\n",
       " 'startseq little girl in pink dress going into wooden cabin endseq',\n",
       " 'startseq black dog and spotted dog are fighting endseq',\n",
       " 'startseq black dog and tri-colored dog playing with each other on the road endseq',\n",
       " 'startseq black dog and white dog with brown spots are staring at each other in the street endseq',\n",
       " 'startseq two dogs of different breeds looking at each other on the road endseq',\n",
       " 'startseq two dogs on pavement moving toward each other endseq']"
      ]
     },
     "execution_count": 16,
     "metadata": {},
     "output_type": "execute_result"
    }
   ],
   "source": [
    "all_captions[:10]"
   ]
  },
  {
   "cell_type": "code",
   "execution_count": 17,
   "id": "b47f455c-c693-4aba-9093-05a7976d6f0d",
   "metadata": {},
   "outputs": [],
   "source": [
    "# tokenize the text\n",
    "tokenizer = Tokenizer()\n",
    "tokenizer.fit_on_texts(all_captions)\n",
    "vocab_size = len(tokenizer.word_index) + 1"
   ]
  },
  {
   "cell_type": "code",
   "execution_count": 18,
   "id": "28efa6cf-c7b6-4e34-b9aa-bebab41b85cc",
   "metadata": {},
   "outputs": [
    {
     "data": {
      "text/plain": [
       "8485"
      ]
     },
     "execution_count": 18,
     "metadata": {},
     "output_type": "execute_result"
    }
   ],
   "source": [
    "vocab_size"
   ]
  },
  {
   "cell_type": "code",
   "execution_count": 19,
   "id": "c891cda6-5ed4-4c71-b514-03b3469a504d",
   "metadata": {},
   "outputs": [
    {
     "data": {
      "text/plain": [
       "35"
      ]
     },
     "execution_count": 19,
     "metadata": {},
     "output_type": "execute_result"
    }
   ],
   "source": [
    "# get maximum length of the caption available\n",
    "max_length = max(len(caption.split()) for caption in all_captions)\n",
    "max_length"
   ]
  },
  {
   "cell_type": "raw",
   "id": "0bdcc2d3-afd1-4b95-a544-07e0802362ac",
   "metadata": {},
   "source": [
    "##train test slip\n"
   ]
  },
  {
   "cell_type": "code",
   "execution_count": 20,
   "id": "70fd75aa-b39a-4706-a75a-5f8af2b1c353",
   "metadata": {},
   "outputs": [],
   "source": [
    "image_ids = list(mapping.keys())\n",
    "split = int(len(image_ids) * 0.90)\n",
    "train = image_ids[:split]\n",
    "test = image_ids[split:]"
   ]
  },
  {
   "cell_type": "code",
   "execution_count": 21,
   "id": "b5be553f-f344-4cf8-9a75-11ff98d2ef35",
   "metadata": {},
   "outputs": [],
   "source": [
    "# create data generator to get data in batch (avoids session crash)\n",
    "def data_generator(data_keys, mapping, features, tokenizer, max_length, vocab_size, batch_size):\n",
    "    # loop over images\n",
    "    X1, X2, y = list(), list(), list()\n",
    "    n = 0\n",
    "    while 1:\n",
    "        for key in data_keys:\n",
    "            n += 1\n",
    "            captions = mapping[key]\n",
    "            # process each caption\n",
    "            for caption in captions:\n",
    "                # encode the sequence\n",
    "                seq = tokenizer.texts_to_sequences([caption])[0]\n",
    "                # split the sequence into X, y pairs\n",
    "                for i in range(1, len(seq)):\n",
    "                    # split into input and output pairs\n",
    "                    in_seq, out_seq = seq[:i], seq[i]\n",
    "                    # pad input sequence\n",
    "                    in_seq = pad_sequences([in_seq], maxlen=max_length)[0]\n",
    "                    # encode output sequence\n",
    "                    out_seq = to_categorical([out_seq], num_classes=vocab_size)[0]\n",
    "                    \n",
    "                    # store the sequences\n",
    "                    X1.append(features[key][0])\n",
    "                    X2.append(in_seq)\n",
    "                    y.append(out_seq)\n",
    "            if n == batch_size:\n",
    "                X1, X2, y = np.array(X1), np.array(X2), np.array(y)\n",
    "                yield [X1, X2], y\n",
    "                X1, X2, y = list(), list(), list()\n",
    "                n = 0"
   ]
  },
  {
   "cell_type": "raw",
   "id": "ad4a55f5-6fde-4f1f-9968-e0750681ad07",
   "metadata": {},
   "source": [
    "#model creation"
   ]
  },
  {
   "cell_type": "code",
   "execution_count": 60,
   "id": "87ce0b1d-b3ea-47e2-acbe-f070a3849321",
   "metadata": {},
   "outputs": [
    {
     "data": {
      "image/png": "[encoded data removed]",
      "text/plain": [
       "<IPython.core.display.Image object>"
      ]
     },
     "execution_count": 60,
     "metadata": {},
     "output_type": "execute_result"
    }
   ],
   "source": [
    "# encoder model\n",
    "# image feature layers\n",
    "inputs1 = Input(shape=(4096,))\n",
    "fe1 = Dropout(0.4)(inputs1)\n",
    "fe2 = Dense(256, activation='relu')(fe1)\n",
    "# sequence feature layers\n",
    "inputs2 = Input(shape=(max_length,))\n",
    "se1 = Embedding(vocab_size, 256, mask_zero=True)(inputs2)\n",
    "se2 = Dropout(0.4)(se1)\n",
    "se3 = LSTM(256)(se2)\n",
    "\n",
    "# decoder model\n",
    "decoder1 = add([fe2, se3])\n",
    "decoder2 = Dense(256, activation='relu')(decoder1)\n",
    "outputs = Dense(vocab_size, activation='softmax')(decoder2)\n",
    "\n",
    "model = Model(inputs=[inputs1, inputs2], outputs=outputs)\n",
    "model.compile(loss='categorical_crossentropy', optimizer='adam')\n",
    "\n",
    "# plot the model\n",
    "plot_model(model, show_shapes=True)"
   ]
  },
  {
   "cell_type": "code",
   "execution_count": null,
   "id": "ea0e3489-aa9a-4c31-bda4-31dfa522dcfb",
   "metadata": {
    "scrolled": true
   },
   "outputs": [
    {
     "name": "stdout",
     "output_type": "stream",
     "text": [
      "121/121 [==============================] - 642s 5s/step - loss: 5.5855\n",
      "121/121 [==============================] - 428s 4s/step - loss: 4.4375\n",
      "121/121 [==============================] - 424s 4s/step - loss: 3.8208\n",
      "121/121 [==============================] - 422s 3s/step - loss: 3.5130\n",
      "121/121 [==============================] - 427s 4s/step - loss: 3.3018\n",
      "121/121 [==============================] - 428s 4s/step - loss: 3.1447\n",
      "121/121 [==============================] - 420s 3s/step - loss: 3.0136\n",
      "121/121 [==============================] - 420s 3s/step - loss: 2.9065\n",
      " 29/121 [======>.......................] - ETA: 5:19 - loss: 2.8301"
     ]
    }
   ],
   "source": [
    "# train the model\n",
    "epochs = 35\n",
    "batch_size = 60\n",
    "steps = len(train) // batch_size\n",
    "\n",
    "for i in range(epochs):\n",
    "    # create data generator\n",
    "    generator = data_generator(train, mapping, features, tokenizer, max_length, vocab_size, batch_size)\n",
    "    # fit for one epoch\n",
    "    model.fit(generator, epochs=1, steps_per_epoch=steps, verbose=1)"
   ]
  },
  {
   "cell_type": "code",
   "execution_count": 24,
   "id": "87eb3dba-82c2-423b-853c-22cddf2467cc",
   "metadata": {},
   "outputs": [
    {
     "name": "stdout",
     "output_type": "stream",
     "text": [
      "INFO:tensorflow:Assets written to: /Users/sapta/Desktop/archive\\assets\n"
     ]
    },
    {
     "name": "stderr",
     "output_type": "stream",
     "text": [
      "INFO:tensorflow:Assets written to: /Users/sapta/Desktop/archive\\assets\n"
     ]
    }
   ],
   "source": [
    "model.save(WORKING_DIR+'/Desktop/archive')\n",
    "model.save('mycaptionmodel1.keras')"
   ]
  },
  {
   "cell_type": "markdown",
   "id": "7721ce57-1d66-448a-b825-a541192218e3",
   "metadata": {},
   "source": [
    "#genarate caption for images"
   ]
  },
  {
   "cell_type": "code",
   "execution_count": 1,
   "id": "35543dec-3f4b-4063-ade4-5b894117d5a2",
   "metadata": {},
   "outputs": [],
   "source": [
    "def idx_to_word(integer, tokenizer):\n",
    "    for word, index in tokenizer.word_index.items():\n",
    "        if index == integer:\n",
    "            return word\n",
    "    return None"
   ]
  },
  {
   "cell_type": "code",
   "execution_count": 2,
   "id": "70766f84-ef71-4059-a1e4-255067287269",
   "metadata": {},
   "outputs": [],
   "source": [
    "# generate caption for an image\n",
    "def predict_caption(model, image, tokenizer, max_length):\n",
    "    # add start tag for generation process\n",
    "    in_text = 'startseq'\n",
    "    # iterate over the max length of sequence\n",
    "    for i in range(max_length):\n",
    "        # encode input sequence\n",
    "        sequence = tokenizer.texts_to_sequences([in_text])[0]\n",
    "        # pad the sequence\n",
    "        sequence = pad_sequences([sequence], max_length)\n",
    "        # predict next word\n",
    "        yhat = model.predict([image, sequence], verbose=0)\n",
    "        # get index with high probability\n",
    "        yhat = np.argmax(yhat)\n",
    "        # convert index to word\n",
    "        word = idx_to_word(yhat, tokenizer)\n",
    "        # stop if word not found\n",
    "        if word is None:\n",
    "            break\n",
    "        # append word as input for generating next word\n",
    "        in_text += \" \" + word\n",
    "        # stop if we reach end tag\n",
    "        if word == 'endseq':\n",
    "            break\n",
    "      \n",
    "    return in_text"
   ]
  },
  {
   "cell_type": "code",
   "execution_count": 3,
   "id": "f9b8227f-674d-4fe8-95c2-ce8b1a205a8f",
   "metadata": {},
   "outputs": [
    {
     "ename": "NameError",
     "evalue": "name 'tqdm' is not defined",
     "output_type": "error",
     "traceback": [
      "\u001b[1;31m---------------------------------------------------------------------------\u001b[0m",
      "\u001b[1;31mNameError\u001b[0m                                 Traceback (most recent call last)",
      "Cell \u001b[1;32mIn[3], line 7\u001b[0m\n\u001b[0;32m      4\u001b[0m \u001b[38;5;66;03m# validate with test data\u001b[39;00m\n\u001b[0;32m      5\u001b[0m actual, predicted \u001b[38;5;241m=\u001b[39m \u001b[38;5;28mlist\u001b[39m(), \u001b[38;5;28mlist\u001b[39m()\n\u001b[1;32m----> 7\u001b[0m \u001b[38;5;28;01mfor\u001b[39;00m key \u001b[38;5;129;01min\u001b[39;00m \u001b[43mtqdm\u001b[49m(test):\n\u001b[0;32m      8\u001b[0m     \u001b[38;5;66;03m# get actual caption\u001b[39;00m\n\u001b[0;32m      9\u001b[0m     captions \u001b[38;5;241m=\u001b[39m mapping[key]\n\u001b[0;32m     10\u001b[0m     \u001b[38;5;66;03m# predict the caption for image\u001b[39;00m\n",
      "\u001b[1;31mNameError\u001b[0m: name 'tqdm' is not defined"
     ]
    }
   ],
   "source": [
    "import nltk\n",
    "from nltk.translate.bleu_score import corpus_bleu\n",
    "\n",
    "# validate with test data\n",
    "actual, predicted = list(), list()\n",
    "\n",
    "for key in tqdm(test):\n",
    "    # get actual caption\n",
    "    captions = mapping[key]\n",
    "    # predict the caption for image\n",
    "    y_pred = predict_caption(model, features[key], tokenizer, max_length) \n",
    "    # split into words\n",
    "    actual_captions = [caption.split() for caption in captions]\n",
    "    y_pred = y_pred.split()\n",
    "    # append to the list\n",
    "    actual.append(actual_captions)\n",
    "    predicted.append(y_pred)\n",
    "    \n",
    "# calcuate BLEU score\n",
    "print(\"BLEU-1: %f\" % corpus_bleu(actual, predicted, weights=(1.0, 0, 0, 0)))\n",
    "print(\"BLEU-2: %f\" % corpus_bleu(actual, predicted, weights=(0.5, 0.5, 0, 0)))"
   ]
  },
  {
   "cell_type": "markdown",
   "id": "24d64eff-ae94-42e7-8fb5-8e0b8b302fa7",
   "metadata": {},
   "source": [
    "visualize the result"
   ]
  },
  {
   "cell_type": "code",
   "execution_count": null,
   "id": "249db2d3-7d25-425d-827b-303b057e6fa2",
   "metadata": {},
   "outputs": [],
   "source": [
    "from PIL import Image\n",
    "import matplotlib.pyplot as plt\n",
    "def generate_caption(image_name):\n",
    "    # load the image\n",
    "    # image_name = \"1001773457_577c3a7d70.jpg\"\n",
    "    image_id = image_name.split('.')[0]\n",
    "    img_path = os.path.join(BASE_DIR, \"Images\", image_name)\n",
    "    image = Image.open(img_path)\n",
    "    captions = mapping[image_id]\n",
    "    print('---------------------Actual---------------------')\n",
    "    for caption in captions:\n",
    "        print(caption)\n",
    "    # predict the caption\n",
    "    y_pred = predict_caption(model, features[image_id], tokenizer, max_length)\n",
    "    print('--------------------Predicted--------------------')\n",
    "    print(y_pred)\n",
    "    plt.imshow(image)"
   ]
  },
  {
   "cell_type": "code",
   "execution_count": null,
   "id": "926253af-a166-4cf3-bbc3-c31bfd002f0b",
   "metadata": {},
   "outputs": [],
   "source": [
    "generate_caption(\"1001773457_577c3a7d70.jpg\")"
   ]
  },
  {
   "cell_type": "code",
   "execution_count": null,
   "id": "fc3fa895-17da-464e-a047-8917f77015bc",
   "metadata": {},
   "outputs": [],
   "source": [
    "generate_caption(\"109202801_c6381eef15.jpg\")"
   ]
  },
  {
   "cell_type": "code",
   "execution_count": null,
   "id": "4682aed9-c70d-42bb-b10e-e024b95a78cb",
   "metadata": {},
   "outputs": [],
   "source": [
    "generate_caption(\"35506150_cbdb630f4f.jpg\")"
   ]
  },
  {
   "cell_type": "code",
   "execution_count": null,
   "id": "2db0df6c-3029-441b-939d-00ba4459964c",
   "metadata": {},
   "outputs": [],
   "source": [
    "generate_caption(\"44129946_9eeb385d77.jpg\")"
   ]
  },
  {
   "cell_type": "code",
   "execution_count": null,
   "id": "c2d1d279-9174-4ad6-a551-613bb1bbf720",
   "metadata": {},
   "outputs": [],
   "source": [
    "vgg_model = VGG16()\n",
    "# restructure the model\n",
    "vgg_model = Model(inputs=vgg_model.inputs, outputs=vgg_model.layers[-2].output)"
   ]
  },
  {
   "cell_type": "code",
   "execution_count": null,
   "id": "34908f6c-bed9-4063-b6c2-9a5583cbf100",
   "metadata": {},
   "outputs": [],
   "source": [
    "image_path = '/Users/sapta/Desktop/archive/Images/12345678.jpg'\n",
    "# load image\n",
    "image = load_img(image_path, target_size=(224, 224))\n",
    "# convert image pixels to numpy array\n",
    "image = img_to_array(image)\n",
    "# reshape data for model\n",
    "image = image.reshape((1, image.shape[0], image.shape[1], image.shape[2]))\n",
    "# preprocess image for vgg\n",
    "image = preprocess_input(image)\n",
    "# extract features\n",
    "feature = vgg_model.predict(image, verbose=0)\n",
    "# predict from the trained model\n",
    "predict_caption(model, feature, tokenizer, max_length)\n",
    "\n",
    "\n"
   ]
  },
  {
   "cell_type": "code",
   "execution_count": null,
   "id": "96ba45e9-c0ce-46ff-b2d2-a01708ee62c8",
   "metadata": {},
   "outputs": [],
   "source": [
    "from deep_translator import GoogleTranslator\n",
    "from tensorflow.keras.preprocessing.image import load_img, img_to_array\n",
    "from tensorflow.keras.applications.vgg16 import preprocess_input\n",
    "\n",
    "# Function to generate caption for an image\n",
    "def generate_caption(image_path, vgg_model, model, tokenizer, max_length):\n",
    "    # Load and preprocess the image\n",
    "    image = load_img(image_path, target_size=(224, 224))\n",
    "    image = img_to_array(image)\n",
    "    image = image.reshape((1, image.shape[0], image.shape[1], image.shape[2]))\n",
    "    image = preprocess_input(image)\n",
    "\n",
    "    # Extract features\n",
    "    feature = vgg_model.predict(image, verbose=0)\n",
    "\n",
    "    # Generate caption\n",
    "    caption = predict_caption(model, feature, tokenizer, max_length)\n",
    "    return caption\n",
    "\n",
    "# Function to translate a caption into multiple languages\n",
    "def translate_caption(caption, target_languages):\n",
    "    translations = {}\n",
    "    for lang in target_languages:\n",
    "        translator_instance = GoogleTranslator(source='auto', target=lang)\n",
    "        translation = translator_instance.translate(caption)\n",
    "        translations[lang] = translation\n",
    "    return translations\n",
    "\n",
    "# Example usage\n",
    "image_path = '/Users/sapta/Desktop/archive/Images/12345678.jpg'\n",
    "target_languages = [ 'en','hi', 'bn', 'te', 'mr', 'ta', 'ur', 'gu', 'kn'  ]  \n",
    "\n",
    "# Generate caption for the image\n",
    "caption = generate_caption(image_path, vgg_model, model, tokenizer, max_length)\n",
    "\n",
    "# Translate the caption into multiple languages\n",
    "translated_captions = translate_caption(caption, target_languages)\n",
    "\n",
    "# Print translated captions\n",
    "for lang, translated_caption in translated_captions.items():\n",
    "    print(f\"{lang}: {translated_caption}\")\n"
   ]
  },
  {
   "cell_type": "code",
   "execution_count": null,
   "id": "1af8273a-bb85-4275-a918-4006fb88d929",
   "metadata": {},
   "outputs": [],
   "source": [
    "from deep_translator import GoogleTranslator\n",
    "from tensorflow.keras.preprocessing.image import load_img, img_to_array\n",
    "from tensorflow.keras.applications.vgg16 import preprocess_input\n",
    "\n",
    "# Function to generate caption for an image\n",
    "def generate_caption(image_path, vgg_model, model, tokenizer, max_length):\n",
    "    # Load and preprocess the image\n",
    "    image = load_img(image_path, target_size=(224, 224))\n",
    "    image = img_to_array(image)\n",
    "    image = image.reshape((1, image.shape[0], image.shape[1], image.shape[2]))\n",
    "    image = preprocess_input(image)\n",
    "\n",
    "    # Extract features\n",
    "    feature = vgg_model.predict(image, verbose=0)\n",
    "\n",
    "    # Generate caption\n",
    "    caption = predict_caption(model, feature, tokenizer, max_length)\n",
    "    return caption\n",
    "\n",
    "# Function to translate a caption into a single target language\n",
    "def translate_caption(caption, target_language):\n",
    "    translator_instance = GoogleTranslator(source='auto', target=target_language)\n",
    "    translation = translator_instance.translate(caption)\n",
    "    return translation\n",
    "\n",
    "# Example usage\n",
    "image_path = '/Users/sapta/Desktop/archive/Images/12345678.jpg'\n",
    "\n",
    "# Prompt the user to enter the target language\n",
    "target_language = input(\"Enter the target language (e.g., 'hi' for Hindi, 'bn' for Bengali, etc.): \")\n",
    "\n",
    "# Check if the target language is supported\n",
    "supported_languages = ['hi', 'bn', 'te', 'mr', 'ta', 'ur', 'gu', 'kn']\n",
    "if target_language in supported_languages:\n",
    "    # Generate caption for the image\n",
    "    caption = generate_caption(image_path, vgg_model, model, tokenizer, max_length)\n",
    "\n",
    "    # Translate the caption to the specified target language\n",
    "    translated_caption = translate_caption(caption, target_language)\n",
    "\n",
    "    # Print translated caption\n",
    "    print(f\"{target_language}: {translated_caption}\")\n",
    "else:\n",
    "    print(\"Invalid target language. Please specify one of the supported languages.\")\n"
   ]
  },
  {
   "cell_type": "code",
   "execution_count": null,
   "id": "ef09785a-553f-444c-bd7e-07e6d4a20e2f",
   "metadata": {},
   "outputs": [],
   "source": [
    "import matplotlib.pyplot as plt\n",
    "import matplotlib.image as mpimg\n",
    "\n",
    "# Function to display the image\n",
    "def display_image(image_path):\n",
    "    img = mpimg.imread(image_path)\n",
    "    plt.imshow(img)\n",
    "    plt.axis('off')\n",
    "    plt.show()\n",
    "# Display the image\n",
    "display_image(image_path)\n",
    "\n",
    "# Print translated captions\n",
    "for lang, translated_caption in translated_captions.items():\n",
    "    print(f\"{lang}: {translated_caption}\")\n"
   ]
  },
  {
   "cell_type": "code",
   "execution_count": null,
   "id": "1d57f279-dc1a-4d30-8158-6bcc65619cd0",
   "metadata": {},
   "outputs": [],
   "source": [
    "from deep_translator import GoogleTranslator\n",
    "from gtts import gTTS\n",
    "import os\n",
    "\n",
    "# Function to generate audio for translated captions\n",
    "def generate_audio(translated_captions):\n",
    "    for lang, translated_caption in translated_captions.items():\n",
    "        tts = gTTS(text=translated_caption, lang=lang, slow=False)\n",
    "        audio_file = f\"{lang}_caption.mp3\"\n",
    "        tts.save(audio_file)\n",
    "        print(f\"Audio generated for {lang} caption\")\n",
    "\n",
    "# Example usage\n",
    "# Generate audio for translated captions\n",
    "generate_audio(translated_captions)\n"
   ]
  },
  {
   "cell_type": "code",
   "execution_count": null,
   "id": "fed79534-93ba-4c6f-80b8-9778d16395af",
   "metadata": {},
   "outputs": [],
   "source": [
    "from deep_translator import GoogleTranslator\n",
    "from gtts import gTTS\n",
    "import os\n",
    "import pygame\n",
    "\n",
    "# Function to generate audio for translated captions\n",
    "def generate_audio(translated_captions):\n",
    "    for lang, translated_caption in translated_captions.items():\n",
    "        tts = gTTS(text=translated_caption, lang=lang, slow=False)\n",
    "        audio_file = f\"{lang}_caption.mp3\"\n",
    "        tts.save(audio_file)\n",
    "        print(f\"Audio generated for {lang} caption\")\n",
    "        # Play the audio\n",
    "        pygame.mixer.init()\n",
    "        pygame.mixer.music.load(audio_file)\n",
    "        pygame.mixer.music.play()\n",
    "        while pygame.mixer.music.get_busy():\n",
    "            pygame.time.Clock().tick(10)\n",
    "\n",
    "# Example usage\n",
    "# Generate audio for translated captions\n",
    "generate_audio(translated_captions)\n"
   ]
  },
  {
   "cell_type": "code",
   "execution_count": null,
   "id": "f0a23895-7415-47bf-9db5-febf6ed1b69c",
   "metadata": {},
   "outputs": [],
   "source": []
  }
 ],
 "metadata": {
  "kernelspec": {
   "display_name": "Python 3 (ipykernel)",
   "language": "python",
   "name": "python3"
  },
  "language_info": {
   "codemirror_mode": {
    "name": "ipython",
    "version": 3
   },
   "file_extension": ".py",
   "mimetype": "text/x-python",
   "name": "python",
   "nbconvert_exporter": "python",
   "pygments_lexer": "ipython3",
   "version": "3.11.7"
  }
 },
 "nbformat": 4,
 "nbformat_minor": 5
}
